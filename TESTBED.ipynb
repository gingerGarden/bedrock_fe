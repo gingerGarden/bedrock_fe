{
 "cells": [
  {
   "cell_type": "code",
   "execution_count": 1,
   "id": "b945e362",
   "metadata": {},
   "outputs": [],
   "source": [
    "from app.api.p1_login import self_update"
   ]
  },
  {
   "cell_type": "code",
   "execution_count": 2,
   "id": "60ccfdca",
   "metadata": {},
   "outputs": [],
   "source": [
    "mask, msg, _ = self_update(\n",
    "    user_id=\"test09\",\n",
    "    pwd_current=\"test1234test1234\",\n",
    "    user_name=\"테스트_계정_4321\"\n",
    ")"
   ]
  },
  {
   "cell_type": "code",
   "execution_count": null,
   "id": "9fbfb72d",
   "metadata": {},
   "outputs": [],
   "source": []
  },
  {
   "cell_type": "code",
   "execution_count": null,
   "id": "3828ff16",
   "metadata": {},
   "outputs": [],
   "source": []
  },
  {
   "cell_type": "code",
   "execution_count": null,
   "id": "66481598",
   "metadata": {},
   "outputs": [],
   "source": []
  },
  {
   "cell_type": "code",
   "execution_count": null,
   "id": "cbc33c76",
   "metadata": {},
   "outputs": [],
   "source": []
  }
 ],
 "metadata": {
  "kernelspec": {
   "display_name": "alpha",
   "language": "python",
   "name": "python3"
  },
  "language_info": {
   "codemirror_mode": {
    "name": "ipython",
    "version": 3
   },
   "file_extension": ".py",
   "mimetype": "text/x-python",
   "name": "python",
   "nbconvert_exporter": "python",
   "pygments_lexer": "ipython3",
   "version": "3.12.11"
  }
 },
 "nbformat": 4,
 "nbformat_minor": 5
}
